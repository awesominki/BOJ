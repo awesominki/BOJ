{
 "cells": [
  {
   "cell_type": "code",
   "execution_count": 74,
   "metadata": {
    "collapsed": true,
    "ExecuteTime": {
     "start_time": "2023-05-02T17:42:04.893517Z",
     "end_time": "2023-05-02T17:42:04.899010Z"
    }
   },
   "outputs": [],
   "source": [
    "import numpy as np\n",
    "import pandas as pd\n",
    "\n",
    "# 데이터 불러오기\n",
    "train_data = pd.read_csv('/Users/mac/Downloads/assignment01_train.csv')\n",
    "test_data = pd.read_csv('/Users/mac/Downloads/assignment01_test.csv')"
   ]
  },
  {
   "cell_type": "code",
   "execution_count": 75,
   "outputs": [],
   "source": [
    "# Model 1: Simple linear regression model\n",
    "X_train1 = train_data['TV'].values.reshape(-1, 1)\n",
    "Y_train1 = train_data['Sales'].values.reshape(-1, 1)\n",
    "X_test1 = test_data['TV'].values.reshape(-1, 1)\n",
    "Y_test1 = test_data['Sales'].values.reshape(-1, 1)"
   ],
   "metadata": {
    "collapsed": false,
    "ExecuteTime": {
     "start_time": "2023-05-02T17:42:05.834188Z",
     "end_time": "2023-05-02T17:42:05.836203Z"
    }
   }
  },
  {
   "cell_type": "code",
   "execution_count": 76,
   "outputs": [],
   "source": [
    "# add bias term\n",
    "X_train1 = np.hstack((np.ones((X_train1.shape[0], 1)), X_train1))\n",
    "X_test1 = np.hstack((np.ones((X_test1.shape[0], 1)), X_test1))"
   ],
   "metadata": {
    "collapsed": false,
    "ExecuteTime": {
     "start_time": "2023-05-02T17:42:07.350168Z",
     "end_time": "2023-05-02T17:42:07.352972Z"
    }
   }
  },
  {
   "cell_type": "code",
   "execution_count": 77,
   "outputs": [],
   "source": [
    "# beta hat 구하기 (closed-form solution)\n",
    "beta_hat1 = np.linalg.inv(X_train1.T @ X_train1) @ X_train1.T @ Y_train1\n",
    "\n"
   ],
   "metadata": {
    "collapsed": false,
    "ExecuteTime": {
     "start_time": "2023-05-02T17:42:08.576748Z",
     "end_time": "2023-05-02T17:42:08.579296Z"
    }
   }
  },
  {
   "cell_type": "code",
   "execution_count": 78,
   "outputs": [],
   "source": [
    "# test set에 대한 예측 값 구하기\n",
    "Y_pred1 = X_test1.dot(beta_hat1)"
   ],
   "metadata": {
    "collapsed": false,
    "ExecuteTime": {
     "start_time": "2023-05-02T17:42:10.227361Z",
     "end_time": "2023-05-02T17:42:10.230365Z"
    }
   }
  },
  {
   "cell_type": "code",
   "execution_count": 79,
   "outputs": [],
   "source": [
    "# test MSE 계산\n",
    "test_mse1 = np.mean((Y_test1 - Y_pred1)**2)"
   ],
   "metadata": {
    "collapsed": false,
    "ExecuteTime": {
     "start_time": "2023-05-02T17:42:12.445725Z",
     "end_time": "2023-05-02T17:42:12.448864Z"
    }
   }
  },
  {
   "cell_type": "code",
   "execution_count": 82,
   "outputs": [],
   "source": [
    "# test R2 계산\n",
    "test_r2_1 = 1 - np.sum((Y_test1 - Y_pred1)**2) / np.sum((Y_test1 - np.mean(Y_test1))**2)\n"
   ],
   "metadata": {
    "collapsed": false,
    "ExecuteTime": {
     "start_time": "2023-05-02T17:46:07.831267Z",
     "end_time": "2023-05-02T17:46:07.834554Z"
    }
   }
  },
  {
   "cell_type": "code",
   "execution_count": 83,
   "outputs": [
    {
     "name": "stdout",
     "output_type": "stream",
     "text": [
      "Simple Linear Regression Model:\n",
      "test MSE: 14.12920302922874\n",
      "test R2: 0.48392987323341974\n"
     ]
    }
   ],
   "source": [
    "print(\"Simple Linear Regression Model:\")\n",
    "print(\"test MSE:\", test_mse1)\n",
    "print(\"test R2:\", test_r2_1)"
   ],
   "metadata": {
    "collapsed": false,
    "ExecuteTime": {
     "start_time": "2023-05-02T17:46:09.038201Z",
     "end_time": "2023-05-02T17:46:09.041354Z"
    }
   }
  },
  {
   "cell_type": "code",
   "execution_count": 11,
   "outputs": [],
   "source": [
    "# Model 2: Multiple linear regression model\n",
    "X_train2 = train_data[['TV', 'Radio', 'Newspaper']].values\n",
    "Y_train2 = train_data['Sales'].values.reshape(-1, 1)\n",
    "X_test2 = test_data[['TV', 'Radio', 'Newspaper']].values\n",
    "Y_test2 = test_data['Sales'].values.reshape(-1, 1)"
   ],
   "metadata": {
    "collapsed": false,
    "ExecuteTime": {
     "start_time": "2023-05-02T15:39:26.914912Z",
     "end_time": "2023-05-02T15:39:26.916229Z"
    }
   }
  },
  {
   "cell_type": "code",
   "execution_count": 60,
   "outputs": [],
   "source": [
    "# add bias term\n",
    "\n",
    "X_train_2 = np.hstack((np.ones((X_train2.shape[0], 1)), X_train2))\n",
    "X_test_2 = np.hstack((np.ones((X_test2.shape[0], 1)), X_test2))"
   ],
   "metadata": {
    "collapsed": false,
    "ExecuteTime": {
     "start_time": "2023-05-02T17:35:29.635569Z",
     "end_time": "2023-05-02T17:35:29.639473Z"
    }
   }
  },
  {
   "cell_type": "code",
   "execution_count": 61,
   "outputs": [],
   "source": [
    "# beta hat 구하기 (closed-form solution)\n",
    "beta_hat2 = np.linalg.inv(X_train2.T @ X_train2) @ X_train2.T @ Y_train2"
   ],
   "metadata": {
    "collapsed": false,
    "ExecuteTime": {
     "start_time": "2023-05-02T17:35:31.240709Z",
     "end_time": "2023-05-02T17:35:31.245216Z"
    }
   }
  },
  {
   "cell_type": "code",
   "execution_count": 62,
   "outputs": [],
   "source": [
    "# test set에 대한 예측 값 구하기\n",
    "Y_pred2 = X_test2.dot(beta_hat2)"
   ],
   "metadata": {
    "collapsed": false,
    "ExecuteTime": {
     "start_time": "2023-05-02T17:35:32.403295Z",
     "end_time": "2023-05-02T17:35:32.407360Z"
    }
   }
  },
  {
   "cell_type": "code",
   "execution_count": 63,
   "outputs": [],
   "source": [
    "# test MSE 계산\n",
    "test_mse2 = np.mean((Y_test2 - Y_pred2)**2)"
   ],
   "metadata": {
    "collapsed": false,
    "ExecuteTime": {
     "start_time": "2023-05-02T17:35:33.644995Z",
     "end_time": "2023-05-02T17:35:33.648526Z"
    }
   }
  },
  {
   "cell_type": "code",
   "execution_count": 84,
   "outputs": [],
   "source": [
    "# test R2 계산\n",
    "test_r2_2 = 1 - np.sum((Y_test2 - Y_pred2)**2) / np.sum((Y_test2 - np.mean(Y_test2))**2)"
   ],
   "metadata": {
    "collapsed": false,
    "ExecuteTime": {
     "start_time": "2023-05-02T17:46:27.455349Z",
     "end_time": "2023-05-02T17:46:27.458408Z"
    }
   }
  },
  {
   "cell_type": "code",
   "execution_count": 85,
   "outputs": [
    {
     "name": "stdout",
     "output_type": "stream",
     "text": [
      "Multiple Linear Regression Model:\n",
      "test MSE: 2.7540741857924975\n",
      "test R2: 0.8994072481479457\n"
     ]
    }
   ],
   "source": [
    "print(\"Multiple Linear Regression Model:\")\n",
    "print(\"test MSE:\", test_mse2)\n",
    "print(\"test R2:\", test_r2_2)"
   ],
   "metadata": {
    "collapsed": false,
    "ExecuteTime": {
     "start_time": "2023-05-02T17:46:28.694499Z",
     "end_time": "2023-05-02T17:46:28.699509Z"
    }
   }
  }
 ],
 "metadata": {
  "kernelspec": {
   "display_name": "Python 3",
   "language": "python",
   "name": "python3"
  },
  "language_info": {
   "codemirror_mode": {
    "name": "ipython",
    "version": 2
   },
   "file_extension": ".py",
   "mimetype": "text/x-python",
   "name": "python",
   "nbconvert_exporter": "python",
   "pygments_lexer": "ipython2",
   "version": "2.7.6"
  }
 },
 "nbformat": 4,
 "nbformat_minor": 0
}
